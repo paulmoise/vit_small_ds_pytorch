{
  "cells": [
    {
      "cell_type": "markdown",
      "metadata": {
        "id": "-25jTgih_yQz"
      },
      "source": [
        "# Vision Transformer for Small Datasets (PyTorch Implementation)\n",
        "\n",
        "**Description:**  \n",
        "Train a Vision Transformer (ViT) from scratch on a small dataset using Shifted Patch Tokenization (SPT) and Locality Self-Attention (LSA) in PyTorch.\n",
        "\n",
        "---\n",
        "\n",
        "## Introduction\n",
        "\n",
        "The [Vision Transformer (ViT)](https://arxiv.org/abs/2010.11929) architecture has set new benchmarks in image classification by applying Transformer models, originally developed for NLP, to visual data. However, ViT models typically require large-scale pretraining to outperform Convolutional Neural Networks (CNNs), because their self-attention mechanism lacks the **locality inductive bias** inherent to CNNs. This bias captures the spatial relationships between neighboring pixels, making CNNs more efficient on small or medium-sized datasets.\n",
        "\n",
        "To address this limitation, the paper [Vision Transformer for Small-Size Datasets](https://arxiv.org/abs/2112.13492v1) introduces two key improvements:\n",
        "- **Shifted Patch Tokenization (SPT):** Encourages the model to better capture local spatial features by generating patches from both original and shifted images.\n",
        "- **Locality Self-Attention (LSA):** Modifies the attention mechanism to further embed local bias.\n",
        "\n",
        "This notebook implements and experiments with these techniques in PyTorch, adapting the methodology from the official [Keras ViT small dataset example](https://keras.io/examples/vision/vit_small_ds/).  \n",
        "We compare the impact of SPT and LSA (individually and combined) on CIFAR-100, and explore the effect of different data augmentation strategies.\n",
        "\n",
        "---\n"
      ]
    },
    {
      "cell_type": "markdown",
      "metadata": {
        "id": "1R4A340f_yQ0"
      },
      "source": [
        "## Setup"
      ]
    },
    {
      "cell_type": "markdown",
      "metadata": {
        "id": "C5oxDBFg_yQ0"
      },
      "source": [
        "## Prepare the data"
      ]
    },
    {
      "cell_type": "code",
      "source": [
        "import torch\n",
        "import torchvision\n",
        "import torchvision.transforms as transforms\n",
        "from torch.utils.data import DataLoader\n",
        "import numpy as np\n",
        "import matplotlib.pyplot as plt\n",
        "import random"
      ],
      "metadata": {
        "id": "1StIk0n_ZDCB"
      },
      "execution_count": 1,
      "outputs": []
    },
    {
      "cell_type": "code",
      "source": [
        "device = torch.device(\"cuda\" if torch.cuda.is_available() else \"cpu\")\n"
      ],
      "metadata": {
        "id": "zuaf5GHAp9dq"
      },
      "execution_count": 2,
      "outputs": []
    },
    {
      "cell_type": "code",
      "execution_count": 3,
      "metadata": {
        "id": "PghZ2t3g_yQ0",
        "colab": {
          "base_uri": "https://localhost:8080/"
        },
        "outputId": "877e651a-1ee5-4311-8d36-b45f5d96de29"
      },
      "outputs": [
        {
          "output_type": "stream",
          "name": "stderr",
          "text": [
            "100%|██████████| 169M/169M [00:12<00:00, 13.3MB/s]\n"
          ]
        }
      ],
      "source": [
        "# Constants\n",
        "NUM_CLASSES = 100\n",
        "INPUT_SHAPE = (32, 32, 3)\n",
        "BATCH_SIZE = 256\n",
        "\n",
        "# Augmentation\n",
        "IMAGE_SIZE = 72\n",
        "\n",
        "# Use only Resize and ToTensor — no Normalize yet\n",
        "transform = transforms.Compose([\n",
        "    transforms.Resize((IMAGE_SIZE, IMAGE_SIZE)),\n",
        "    transforms.ToTensor()\n",
        "])\n",
        "\n",
        "# Load CIFAR-100\n",
        "train_dataset = torchvision.datasets.CIFAR100(root='./data', train=True, download=True, transform=transform)\n",
        "test_dataset = torchvision.datasets.CIFAR100(root='./data', train=False, download=True, transform=transform)\n",
        "\n",
        "classes = train_dataset.classes"
      ]
    },
    {
      "cell_type": "code",
      "source": [
        "len(classes), classes[:2]"
      ],
      "metadata": {
        "id": "VIhKkJO1d8_3",
        "colab": {
          "base_uri": "https://localhost:8080/"
        },
        "outputId": "d24eab44-8321-40b7-802c-605a4c87ec02"
      },
      "execution_count": 4,
      "outputs": [
        {
          "output_type": "execute_result",
          "data": {
            "text/plain": [
              "(100, ['apple', 'aquarium_fish'])"
            ]
          },
          "metadata": {},
          "execution_count": 4
        }
      ]
    },
    {
      "cell_type": "code",
      "source": [
        "# train_dataset.data.shape  # → (50000, 32, 32, 3)\n",
        "# comes as a NumPy array in N H W C format.\n",
        "train_dataset.data.shape, test_dataset.data.shape"
      ],
      "metadata": {
        "id": "maPmgeilLZn3",
        "colab": {
          "base_uri": "https://localhost:8080/"
        },
        "outputId": "8c9f6e3d-430c-47b6-f9b3-6435ec34b469"
      },
      "execution_count": 5,
      "outputs": [
        {
          "output_type": "execute_result",
          "data": {
            "text/plain": [
              "((50000, 32, 32, 3), (10000, 32, 32, 3))"
            ]
          },
          "metadata": {},
          "execution_count": 5
        }
      ]
    },
    {
      "cell_type": "code",
      "source": [
        "# Create data loader\n",
        "train_loader = DataLoader(train_dataset, batch_size=BATCH_SIZE, shuffle=True, num_workers=2)\n",
        "test_loader = DataLoader(test_dataset, batch_size=BATCH_SIZE, shuffle=False, num_workers=2)\n",
        "\n",
        "# Let's have a look at the one batch to see\n",
        "x_train, y_train = next(iter(train_loader))\n",
        "x_test, y_test = next(iter(test_loader))\n",
        "\n",
        "print(f\"x_train shape: {x_train.shape} - y_train shape: {y_train.shape}\") # X_train shape = (B, C, W, H)\n",
        "print(f\"x_test shape: {x_test.shape} - y_test shape: {y_test.shape}\")"
      ],
      "metadata": {
        "id": "gp0oC5TAKTF0",
        "colab": {
          "base_uri": "https://localhost:8080/"
        },
        "outputId": "ab36424b-256e-4bb4-c31a-3a1bd6ea082f"
      },
      "execution_count": 6,
      "outputs": [
        {
          "output_type": "stream",
          "name": "stdout",
          "text": [
            "x_train shape: torch.Size([256, 3, 72, 72]) - y_train shape: torch.Size([256])\n",
            "x_test shape: torch.Size([256, 3, 72, 72]) - y_test shape: torch.Size([256])\n"
          ]
        }
      ]
    },
    {
      "cell_type": "markdown",
      "source": [
        "`ToTensor()` converts the image from PIL or NumPy (HWC) → PyTorch Tensor (CHW)"
      ],
      "metadata": {
        "id": "n_QP1_2_SttV"
      }
    },
    {
      "cell_type": "markdown",
      "metadata": {
        "id": "5JIyP9cC_yQ1"
      },
      "source": [
        "## Configure the hyperparameters\n",
        "\n",
        "The hyperparameters are different from the paper. Feel free to tune\n",
        "the hyperparameters yourself."
      ]
    },
    {
      "cell_type": "code",
      "execution_count": 7,
      "metadata": {
        "id": "JUBaGgPw_yQ1"
      },
      "outputs": [],
      "source": [
        "# =======================\n",
        "# CONFIGURATION CONSTANTS\n",
        "# =======================\n",
        "\n",
        "# Data\n",
        "BUFFER_SIZE = 512  # Not directly used in PyTorch (used in tf.data)\n",
        "BATCH_SIZE = 256\n",
        "\n",
        "# Augmentation\n",
        "IMAGE_SIZE = 72\n",
        "PATCH_SIZE = 6\n",
        "NUM_PATCHES = (IMAGE_SIZE // PATCH_SIZE) ** 2  # 12x12 = 144\n",
        "\n",
        "# Optimizer\n",
        "LEARNING_RATE = 0.001\n",
        "WEIGHT_DECAY = 0.0001\n",
        "\n",
        "# Training\n",
        "EPOCHS = 50\n",
        "\n",
        "# Architecture\n",
        "LAYER_NORM_EPS = 1e-6\n",
        "TRANSFORMER_LAYERS = 8\n",
        "PROJECTION_DIM = 64\n",
        "NUM_HEADS = 4\n",
        "TRANSFORMER_UNITS = [\n",
        "    PROJECTION_DIM * 2,\n",
        "    PROJECTION_DIM,\n",
        "]\n",
        "MLP_HEAD_UNITS = [2048, 1024]\n",
        "\n",
        "NUM_CLASSES = 100\n",
        "INPUT_SHAPE = (32, 32, 3)\n"
      ]
    },
    {
      "cell_type": "markdown",
      "metadata": {
        "id": "h8fBDz2K_yQ1"
      },
      "source": [
        "## Use data augmentation\n",
        "\n",
        "A snippet from the paper:\n",
        "\n",
        "*\"According to DeiT, various techniques are required to effectively\n",
        "train ViTs. Thus, we applied data augmentations such as CutMix, Mixup,\n",
        "Auto Augment, Repeated Augment to all models.\"*\n",
        "\n",
        "In this example, we will focus solely on the novelty of the approach\n",
        "and not on reproducing the paper results. For this reason, we\n",
        "don't use the mentioned data augmentation schemes. Please feel\n",
        "free to add to or remove from the augmentation pipeline."
      ]
    },
    {
      "cell_type": "code",
      "execution_count": 8,
      "metadata": {
        "id": "BXru7qcz_yQ1"
      },
      "outputs": [],
      "source": [
        "from torch.utils.data import DataLoader\n",
        "import numpy as np\n",
        "from tqdm import tqdm\n",
        "\n",
        "from torch.utils.data import DataLoader\n",
        "from torchvision import datasets, transforms\n",
        "from tqdm import tqdm\n",
        "\n",
        "\n",
        "\n",
        "# Your efficient mean/std function\n",
        "def get_mean_std(loader):\n",
        "    channels_sum, channels_squared_sum, num_batches = 0, 0, 0\n",
        "    for data, _ in tqdm(loader, desc=\"Computing mean and std\", leave=False):\n",
        "        channels_sum += torch.mean(data, dim=[0, 2, 3])\n",
        "        channels_squared_sum += torch.mean(data**2, dim=[0, 2, 3])\n",
        "        num_batches += 1\n",
        "    mean = channels_sum / num_batches\n",
        "    std = (channels_squared_sum / num_batches - mean**2) ** 0.5\n",
        "    return mean, std\n",
        "\n"
      ]
    },
    {
      "cell_type": "code",
      "source": [
        "mean, std = get_mean_std(train_loader)\n",
        "print(f\"Mean: {mean}\")\n",
        "print(f\"Std: {std}\")"
      ],
      "metadata": {
        "id": "v7TrjqvzNFo1",
        "colab": {
          "base_uri": "https://localhost:8080/"
        },
        "outputId": "8ab58ba8-e532-4ff0-8cf8-921a7e839c21"
      },
      "execution_count": 9,
      "outputs": [
        {
          "output_type": "stream",
          "name": "stderr",
          "text": [
            "                                                                         "
          ]
        },
        {
          "output_type": "stream",
          "name": "stdout",
          "text": [
            "Mean: tensor([0.5073, 0.4867, 0.4411])\n",
            "Std: tensor([0.2621, 0.2511, 0.2713])\n"
          ]
        },
        {
          "output_type": "stream",
          "name": "stderr",
          "text": [
            "\r"
          ]
        }
      ]
    },
    {
      "cell_type": "code",
      "source": [
        "\n",
        "# Convert mean/std tensors to lists\n",
        "mean = mean.tolist()\n",
        "std = std.tolist()\n",
        "\n",
        "# Define the final transform for training\n",
        "transform_train = transforms.Compose([\n",
        "    transforms.Resize((72, 72)),\n",
        "    transforms.RandomHorizontalFlip(), # data augmentation\n",
        "    transforms.RandomRotation(degrees=2), # data augmentation technics\n",
        "    transforms.RandomAffine(degrees=0, scale=(0.8, 1.2)), # data augmentation technics\n",
        "    transforms.ToTensor(),\n",
        "    transforms.Normalize(mean=mean, std=std),\n",
        "])\n",
        "\n",
        "# Define the final transform for testing (no augmentation)\n",
        "transform_test = transforms.Compose([\n",
        "    transforms.Resize((72, 72)),\n",
        "    transforms.ToTensor(),\n",
        "    transforms.Normalize(mean=mean, std=std),\n",
        "])\n",
        "\n",
        "# Create the normalized datasets\n",
        "train_dataset = datasets.CIFAR100(\n",
        "    root='./data', train=True, download=False, transform=transform_train)\n",
        "\n",
        "test_dataset = datasets.CIFAR100(\n",
        "    root='./data', train=False, download=False, transform=transform_test)\n",
        "\n",
        "# DataLoaders\n",
        "train_loader = DataLoader(train_dataset, batch_size=BATCH_SIZE, shuffle=True, num_workers=2)\n",
        "test_loader = DataLoader(test_dataset, batch_size=BATCH_SIZE, shuffle=False, num_workers=2)\n"
      ],
      "metadata": {
        "id": "otfsNC_OTB7p"
      },
      "execution_count": 10,
      "outputs": []
    },
    {
      "cell_type": "markdown",
      "metadata": {
        "id": "z0SDJCuO_yQ1"
      },
      "source": [
        "## Implement Shifted Patch Tokenization\n",
        "\n",
        "In a ViT pipeline, the input images are divided into patches that are\n",
        "then linearly projected into tokens. Shifted patch tokenization (STP)\n",
        "is introduced to combat the low receptive field of ViTs. The steps\n",
        "for Shifted Patch Tokenization are as follows:\n",
        "\n",
        "- Start with an image.\n",
        "- Shift the image in diagonal directions.\n",
        "- Concat the diagonally shifted images with the original image.\n",
        "- Extract patches of the concatenated images.\n",
        "- Flatten the spatial dimension of all patches.\n",
        "- Layer normalize the flattened patches and then project it.\n",
        "\n",
        "| ![Shifted Patch Toekenization](https://i.imgur.com/bUnHxd0.png) |\n",
        "| :--: |\n",
        "| Shifted Patch Tokenization [Source](https://arxiv.org/abs/2112.13492v1) |"
      ]
    },
    {
      "cell_type": "code",
      "execution_count": 11,
      "metadata": {
        "id": "XffqX2St_yQ1"
      },
      "outputs": [],
      "source": [
        "import torch\n",
        "import torch.nn as nn\n",
        "\n",
        "class SPT(nn.Module):\n",
        "    def __init__(self, image_size=72, patch_size=6, projection_dim=64, vanilla=False, layer_norm_eps=1e-6):\n",
        "        super().__init__()\n",
        "        self.image_size = image_size\n",
        "        self.patch_size = patch_size\n",
        "        self.half_patch = patch_size // 2\n",
        "        self.vanilla = vanilla\n",
        "\n",
        "        in_channels = 3 if vanilla else 15  # 5 x RGB\n",
        "        patch_vector_dim = patch_size * patch_size * in_channels\n",
        "\n",
        "        self.layer_norm = nn.LayerNorm(patch_vector_dim, eps=layer_norm_eps)\n",
        "        self.projection = nn.Linear(patch_vector_dim, projection_dim)\n",
        "\n",
        "    def crop_shift_pad(self, x, mode):\n",
        "        \"\"\"\n",
        "        Applies the diagonal shift by cropping and zero-padding.\n",
        "        Input x: (B, C, H, W)\n",
        "        \"\"\"\n",
        "        B, C, H, W = x.shape\n",
        "        shifted = torch.zeros_like(x)\n",
        "\n",
        "        if mode == \"left-up\":\n",
        "            shifted[:, :, :-self.half_patch, :-self.half_patch] = x[:, :, self.half_patch:, self.half_patch:]\n",
        "        elif mode == \"left-down\":\n",
        "            shifted[:, :, self.half_patch:, :-self.half_patch] = x[:, :, :-self.half_patch, self.half_patch:]\n",
        "        elif mode == \"right-up\":\n",
        "            shifted[:, :, :-self.half_patch, self.half_patch:] = x[:, :, self.half_patch:, :-self.half_patch]\n",
        "        elif mode == \"right-down\":\n",
        "            shifted[:, :, self.half_patch:, self.half_patch:] = x[:, :, :-self.half_patch, :-self.half_patch]\n",
        "\n",
        "        return shifted\n",
        "\n",
        "    def extract_patches(self, x):\n",
        "        \"\"\"\n",
        "        Extract non-overlapping patches using nn.Unfold.\n",
        "        Input: (B, C, H, W)\n",
        "        Output: (B, num_patches, patch_vector_dim)\n",
        "        \"\"\"\n",
        "        unfold = nn.Unfold(kernel_size=self.patch_size, stride=self.patch_size)\n",
        "        patches = unfold(x)  # (B, patch_dim, num_patches)\n",
        "        patches = patches.transpose(1, 2)  # (B, num_patches, patch_dim)\n",
        "        return patches\n",
        "\n",
        "    def forward(self, x):\n",
        "        \"\"\"\n",
        "        Input: x (B, 3, 72, 72)\n",
        "        Output:\n",
        "            tokens: (B, 144, projection_dim)\n",
        "            raw_patches: (B, 144, patch_vector_dim)\n",
        "        \"\"\"\n",
        "        if not self.vanilla:\n",
        "            shifts = [self.crop_shift_pad(x, mode) for mode in [\"left-up\", \"left-down\", \"right-up\", \"right-down\"]]\n",
        "            x = torch.cat([x] + shifts, dim=1)  # (B, 15, 72, 72)\n",
        "\n",
        "        patches = self.extract_patches(x)  # (B, 144, patch_vector_dim)\n",
        "\n",
        "        if not self.vanilla:\n",
        "            tokens = self.layer_norm(patches)\n",
        "        else:\n",
        "            tokens = patches\n",
        "        tokens = self.projection(tokens)  # (B, 144, projection_dim)\n",
        "\n",
        "        return tokens, patches\n"
      ]
    },
    {
      "cell_type": "markdown",
      "metadata": {
        "id": "uYto8rRi_yQ1"
      },
      "source": [
        "### Visualize the patches"
      ]
    },
    {
      "cell_type": "code",
      "source": [
        "# Pick a random image from the training loader\n",
        "x_batch, _ = next(iter(train_loader))  # x_batch shape: (B, 3, 72, 72)\n",
        "image = x_batch[random.randint(0, x_batch.shape[0] - 1)]  # (3, 72, 72)\n",
        "print(f\"Batch shape: {x_batch.shape}\")\n",
        "print(f\"Image: {image.shape}\")"
      ],
      "metadata": {
        "id": "JBl8RJwMZFqg",
        "colab": {
          "base_uri": "https://localhost:8080/"
        },
        "outputId": "74d2e1f2-d91e-4986-819f-54a073462bb0"
      },
      "execution_count": 12,
      "outputs": [
        {
          "output_type": "stream",
          "name": "stdout",
          "text": [
            "Batch shape: torch.Size([256, 3, 72, 72])\n",
            "Image: torch.Size([3, 72, 72])\n"
          ]
        }
      ]
    },
    {
      "cell_type": "code",
      "source": [
        "# Load unnormalized dataset\n",
        "visual_transform = transforms.Compose([\n",
        "    transforms.Resize((72, 72)),\n",
        "    transforms.ToTensor()\n",
        "])\n",
        "visual_dataset = torchvision.datasets.CIFAR100(\n",
        "    root='./data', train=True, download=False, transform=visual_transform\n",
        ")\n",
        "\n",
        "# Random image\n",
        "idx = random.randint(0, len(visual_dataset) - 1)\n",
        "image, label = visual_dataset[idx]  # image: (3, 72, 72)\n",
        "\n",
        "# Tokenize into vanilla patches using SPT (PyTorch)\n",
        "vanilla_tokenizer = SPT(vanilla=True)\n",
        "_, patch = vanilla_tokenizer(image.unsqueeze(0))  # patch: (1, 144, 540)\n",
        "patch = patch[0]  # (144, 540)\n",
        "\n",
        "# Reshape patch: from (144, 540) to (144, 3, 6, 6)\n",
        "patch = patch.reshape(144, 3, 6, 6)\n",
        "\n",
        "# Permute to (144, 6, 6, 3) for matplotlib\n",
        "patch = patch.permute(0, 2, 3, 1)\n",
        "\n",
        "# Build full grid with 1-pixel white lines\n",
        "n = 12\n",
        "H, W = 6, 6\n",
        "gap = 1\n",
        "grid_h = n * H + (n - 1) * gap\n",
        "grid_w = n * W + (n - 1) * gap\n",
        "grid = np.ones((grid_h, grid_w, 3), dtype=np.float32)  # white background\n",
        "\n",
        "# Fill in patches\n",
        "count = 0\n",
        "for row in range(n):\n",
        "    for col in range(n):\n",
        "        y = row * (H + gap)\n",
        "        x = col * (W + gap)\n",
        "        grid[y:y+H, x:x+W, :] = patch[count].numpy()\n",
        "        count += 1\n",
        "\n",
        "# Display\n",
        "plt.figure(figsize=(5, 5))\n",
        "plt.imshow(grid)\n",
        "plt.axis(\"off\")\n",
        "plt.title(\"Vanilla Patch Tokenization (with grid lines)\")\n",
        "plt.show()\n"
      ],
      "metadata": {
        "id": "YQbRGasBZl1U",
        "colab": {
          "base_uri": "https://localhost:8080/",
          "height": 444
        },
        "outputId": "0738e69a-e65a-491c-dcda-558c8e492af3"
      },
      "execution_count": 13,
      "outputs": [
        {
          "output_type": "display_data",
          "data": {
            "text/plain": [
              "<Figure size 500x500 with 1 Axes>"
            ],
            "image/png": "[encoded data removed]"
          },
          "metadata": {}
        }
      ]
    },
    {
      "cell_type": "code",
      "source": [
        "# Tokenize with SPT (with shifts)\n",
        "spt_tokenizer = SPT(vanilla=False)\n",
        "_, patch = spt_tokenizer(image.unsqueeze(0))  # (1, 144, 540)\n",
        "patch = patch[0]  # (144, 540)\n",
        "\n",
        "# Reshape to (144, 15, 6, 6) → 15 = 5 shifts × 3 channels\n",
        "patch = patch.reshape(144, 15, 6, 6)\n",
        "\n",
        "# Reshape to (144, 5, 3, 6, 6) → (patches, shifts, C, H, W)\n",
        "patch = patch.reshape(144, 5, 3, 6, 6)\n",
        "\n",
        "# Permute to (patches, shifts, H, W, C)\n",
        "patch = patch.permute(0, 1, 3, 4, 2)\n",
        "\n",
        "# Plot each shifted view\n",
        "shifted_images = [\"ORIGINAL\", \"LEFT-UP\", \"LEFT-DOWN\", \"RIGHT-UP\", \"RIGHT-DOWN\"]\n",
        "n = 12\n",
        "H, W = 6, 6\n",
        "gap = 1\n",
        "grid_h = n * H + (n - 1) * gap\n",
        "grid_w = n * W + (n - 1) * gap\n",
        "\n",
        "for shift_index, shift_name in enumerate(shifted_images):\n",
        "    # Build white background grid\n",
        "    grid = np.ones((grid_h, grid_w, 3), dtype=np.float32)\n",
        "\n",
        "    count = 0\n",
        "    for row in range(n):\n",
        "        for col in range(n):\n",
        "            y = row * (H + gap)\n",
        "            x = col * (W + gap)\n",
        "            grid[y:y+H, x:x+W, :] = patch[count, shift_index].numpy()\n",
        "            count += 1\n",
        "\n",
        "    # Display\n",
        "    plt.figure(figsize=(5, 5))\n",
        "    plt.imshow(grid)\n",
        "    plt.title(f\"SPT Patch View - {shift_name}\")\n",
        "    plt.axis(\"off\")\n",
        "    plt.show()\n"
      ],
      "metadata": {
        "id": "-CS3a5rtcGYz",
        "colab": {
          "base_uri": "https://localhost:8080/",
          "height": 1000
        },
        "outputId": "6eb6a8f5-6c95-440e-d50e-2bbd407d67ef"
      },
      "execution_count": 14,
      "outputs": [
        {
          "output_type": "display_data",
          "data": {
            "text/plain": [
              "<Figure size 500x500 with 1 Axes>"
            ],
            "image/png": "[encoded data removed]"
          },
          "metadata": {}
        },
        {
          "output_type": "display_data",
          "data": {
            "text/plain": [
              "<Figure size 500x500 with 1 Axes>"
            ],
            "image/png": "[encoded data removed]"
          },
          "metadata": {}
        },
        {
          "output_type": "display_data",
          "data": {
            "text/plain": [
              "<Figure size 500x500 with 1 Axes>"
            ],
            "image/png": "[encoded data removed]"
          },
          "metadata": {}
        },
        {
          "output_type": "display_data",
          "data": {
            "text/plain": [
              "<Figure size 500x500 with 1 Axes>"
            ],
            "image/png": "[encoded data removed]"
          },
          "metadata": {}
        },
        {
          "output_type": "display_data",
          "data": {
            "text/plain": [
              "<Figure size 500x500 with 1 Axes>"
            ],
            "image/png": "[encoded data removed]"
          },
          "metadata": {}
        }
      ]
    },
    {
      "cell_type": "markdown",
      "metadata": {
        "id": "M4J2i4C8_yQ2"
      },
      "source": [
        "## Implement the patch encoding layer\n",
        "\n",
        "This layer accepts projected patches and then adds positional\n",
        "information to them."
      ]
    },
    {
      "cell_type": "code",
      "execution_count": 15,
      "metadata": {
        "id": "1AMterX7_yQ2"
      },
      "outputs": [],
      "source": [
        "import torch\n",
        "import torch.nn as nn\n",
        "\n",
        "class PatchEncoder(nn.Module):\n",
        "    def __init__(self, num_patches, projection_dim):\n",
        "        super().__init__()\n",
        "        self.num_patches = num_patches\n",
        "        self.projection_dim = projection_dim\n",
        "        self.position_embedding = nn.Embedding(num_patches, projection_dim)\n",
        "\n",
        "    def forward(self, encoded_patches):\n",
        "        \"\"\"\n",
        "        encoded_patches: (B, num_patches, projection_dim)\n",
        "        \"\"\"\n",
        "        positions = torch.arange(self.num_patches, device=encoded_patches.device)  # (num_patches,)\n",
        "        encoded_positions = self.position_embedding(positions)                      # (num_patches, projection_dim)\n",
        "        return encoded_patches + encoded_positions                                 # broadcasted over batch\n",
        "\n"
      ]
    },
    {
      "cell_type": "markdown",
      "metadata": {
        "id": "7MKFM36V_yQ2"
      },
      "source": [
        "## Implement Locality Self Attention\n",
        "\n",
        "The regular attention equation is stated below.\n",
        "\n",
        "| ![Equation of attention](https://miro.medium.com/max/396/1*P9sV1xXM10t943bXy_G9yg.png) |\n",
        "| :--: |\n",
        "| [Source](https://towardsdatascience.com/attention-is-all-you-need-discovering-the-transformer-paper-73e5ff5e0634) |\n",
        "\n",
        "The attention module takes a query, key, and value. First, we compute the\n",
        "similarity between the query and key via a dot product. Then, the result\n",
        "is scaled by the square root of the key dimension. The scaling prevents\n",
        "the softmax function from having an overly small gradient. Softmax is then\n",
        "applied to the scaled dot product to produce the attention weights.\n",
        "The value is then modulated via the attention weights.\n",
        "\n",
        "In self-attention, query, key and value come from the same input.\n",
        "The dot product would result in large self-token relations rather than\n",
        "inter-token relations. This also means that the softmax gives higher\n",
        "probabilities to self-token relations than the inter-token relations.\n",
        "To combat this, the authors propose masking the diagonal of the dot product.\n",
        "This way, we force the attention module to pay more attention to the\n",
        "inter-token relations.\n",
        "\n",
        "The scaling factor is a constant in the regular attention module.\n",
        "This acts like a temperature term that can modulate the softmax function.\n",
        "The authors suggest a learnable temperature term instead of a constant.\n",
        "\n",
        "| ![Implementation of LSA](https://i.imgur.com/GTV99pk.png) |\n",
        "| :--: |\n",
        "| Locality Self Attention [Source](https://arxiv.org/abs/2112.13492v1) |\n",
        "\n",
        "The above two pointers make the Locality Self Attention. We have subclassed the\n",
        "[`layers.MultiHeadAttention`](https://www.tensorflow.org/api_docs/python/tf/keras/layers/MultiHeadAttention)\n",
        "and implemented the trainable temperature. The attention mask is built\n",
        "at a later stage."
      ]
    },
    {
      "cell_type": "code",
      "execution_count": 16,
      "metadata": {
        "id": "CT0Yc0m5_yQ2"
      },
      "outputs": [],
      "source": [
        "import torch\n",
        "import torch.nn as nn\n",
        "import torch.nn.functional as F\n",
        "import math\n",
        "\n",
        "class MultiHeadAttentionLSA(nn.Module):\n",
        "    def __init__(self, embed_dim, num_heads, dropout=0.0):\n",
        "        super().__init__()\n",
        "        self.embed_dim = embed_dim\n",
        "        self.num_heads = num_heads\n",
        "        self.head_dim = embed_dim // num_heads\n",
        "        assert (\n",
        "            self.head_dim * num_heads == embed_dim\n",
        "        ), \"embed_dim must be divisible by num_heads\"\n",
        "\n",
        "        # Learnable temperature parameter (per attention head)\n",
        "        self.tau = nn.Parameter(torch.full((1, num_heads, 1, 1), math.sqrt(self.head_dim)))\n",
        "\n",
        "        self.q_proj = nn.Linear(embed_dim, embed_dim)\n",
        "        self.k_proj = nn.Linear(embed_dim, embed_dim)\n",
        "        self.v_proj = nn.Linear(embed_dim, embed_dim)\n",
        "        self.out_proj = nn.Linear(embed_dim, embed_dim)\n",
        "        self.dropout = nn.Dropout(dropout)\n",
        "\n",
        "    def forward(self, query, key, value, mask=None):\n",
        "        # query/key/value: (B, N, D)\n",
        "        B, N, D = query.shape\n",
        "\n",
        "        # Linear projections\n",
        "        q = self.q_proj(query).reshape(B, N, self.num_heads, self.head_dim).transpose(1, 2)  # (B, num_heads, N, head_dim)\n",
        "        k = self.k_proj(key).reshape(B, N, self.num_heads, self.head_dim).transpose(1, 2)\n",
        "        v = self.v_proj(value).reshape(B, N, self.num_heads, self.head_dim).transpose(1, 2)\n",
        "\n",
        "        # LSA: scale by learnable tau\n",
        "        q = q / self.tau  # (B, num_heads, N, head_dim)\n",
        "\n",
        "        # Attention scores\n",
        "        attn_scores = torch.matmul(q, k.transpose(-2, -1))  # (B, num_heads, N, N)\n",
        "\n",
        "        if mask is not None:\n",
        "            mask.to(device)\n",
        "            attn_scores = attn_scores.masked_fill(mask == 0, float('-inf'))\n",
        "\n",
        "        attn_probs = F.softmax(attn_scores, dim=-1)\n",
        "        attn_probs = self.dropout(attn_probs)\n",
        "\n",
        "        attn_output = torch.matmul(attn_probs, v)  # (B, num_heads, N, head_dim)\n",
        "\n",
        "        # Concatenate heads\n",
        "        attn_output = attn_output.transpose(1, 2).reshape(B, N, D)\n",
        "        return self.out_proj(attn_output), attn_probs  # (B, N, D), (B, num_heads, N, N)\n"
      ]
    },
    {
      "cell_type": "markdown",
      "metadata": {
        "id": "blGk-h4L_yQ2"
      },
      "source": [
        "## Implement the MLP"
      ]
    },
    {
      "cell_type": "code",
      "execution_count": 17,
      "metadata": {
        "id": "8KMhGI-8_yQ2",
        "colab": {
          "base_uri": "https://localhost:8080/"
        },
        "outputId": "e1d294d1-654c-45c7-e9de-2d210c38fcb8"
      },
      "outputs": [
        {
          "output_type": "execute_result",
          "data": {
            "text/plain": [
              "tensor([[[0, 1, 1,  ..., 1, 1, 1],\n",
              "         [1, 0, 1,  ..., 1, 1, 1],\n",
              "         [1, 1, 0,  ..., 1, 1, 1],\n",
              "         ...,\n",
              "         [1, 1, 1,  ..., 0, 1, 1],\n",
              "         [1, 1, 1,  ..., 1, 0, 1],\n",
              "         [1, 1, 1,  ..., 1, 1, 0]]], device='cuda:0', dtype=torch.int8)"
            ]
          },
          "metadata": {},
          "execution_count": 17
        }
      ],
      "source": [
        "\n",
        "class MLP(nn.Module):\n",
        "    def __init__(self, input_dim, hidden_units, dropout_rate):\n",
        "        super().__init__()\n",
        "        layers = []\n",
        "        for units in hidden_units:\n",
        "            layers.append(nn.Linear(input_dim, units))\n",
        "            layers.append(nn.GELU())\n",
        "            layers.append(nn.Dropout(dropout_rate))\n",
        "            input_dim = units\n",
        "        self.mlp = nn.Sequential(*layers)\n",
        "\n",
        "    def forward(self, x):\n",
        "        return self.mlp(x)\n",
        "\n",
        "\n",
        "\n",
        "# Build the diagonal attention mask\n",
        "diag_attn_mask = 1 - torch.eye(NUM_PATCHES)\n",
        "diag_attn_mask = diag_attn_mask.unsqueeze(0).to(dtype=torch.int8)  # shape (1, NUM_PATCHES, NUM_PATCHES)\n",
        "diag_attn_mask.to(device)"
      ]
    },
    {
      "cell_type": "markdown",
      "metadata": {
        "id": "YpN_hTin_yQ2"
      },
      "source": [
        "## Build the ViT"
      ]
    },
    {
      "cell_type": "code",
      "execution_count": 18,
      "metadata": {
        "id": "6-r6Q3Ys_yQ2"
      },
      "outputs": [],
      "source": [
        "import torch\n",
        "import torch.nn as nn\n",
        "import torch.nn.functional as F\n",
        "\n",
        "class ViTClassifier(nn.Module):\n",
        "    def __init__(\n",
        "        self,\n",
        "        image_size=IMAGE_SIZE,\n",
        "        patch_size=PATCH_SIZE,\n",
        "        num_patches=NUM_PATCHES,\n",
        "        projection_dim=PROJECTION_DIM,\n",
        "        num_heads=NUM_HEADS,\n",
        "        transformer_layers=TRANSFORMER_LAYERS,\n",
        "        transformer_units=TRANSFORMER_UNITS,\n",
        "        mlp_head_units=MLP_HEAD_UNITS,\n",
        "        num_classes=NUM_CLASSES,\n",
        "        dropout_rate=0.1,\n",
        "        vanilla=False,\n",
        "        diag_attn_mask=None\n",
        "    ):\n",
        "        super().__init__()\n",
        "        self.vanilla = vanilla\n",
        "        self.data_augmentation = nn.Identity()  # (the data augmentation was included in the initialization of the dataset creation)\n",
        "        self.spt = SPT(\n",
        "            image_size=image_size,\n",
        "            patch_size=patch_size,\n",
        "            projection_dim=projection_dim,\n",
        "            vanilla=vanilla\n",
        "        )\n",
        "        self.patch_encoder = PatchEncoder(num_patches, projection_dim)\n",
        "\n",
        "        # Transformer blocks\n",
        "        self.transformer_blocks = nn.ModuleList()\n",
        "        for _ in range(transformer_layers):\n",
        "            block = nn.ModuleDict({\n",
        "                'norm1': nn.LayerNorm(projection_dim, eps=1e-6),\n",
        "                'mha': MultiHeadAttentionLSA(\n",
        "                    embed_dim=projection_dim,\n",
        "                    num_heads=num_heads,\n",
        "                    dropout=dropout_rate\n",
        "                ) if not vanilla else nn.MultiheadAttention(\n",
        "                    embed_dim=projection_dim,\n",
        "                    num_heads=num_heads,\n",
        "                    dropout=dropout_rate,\n",
        "                    batch_first=True\n",
        "                ),\n",
        "                'norm2': nn.LayerNorm(projection_dim, eps=1e-6),\n",
        "                'mlp': MLP(projection_dim, transformer_units, dropout_rate)\n",
        "            })\n",
        "            self.transformer_blocks.append(block)\n",
        "\n",
        "        self.final_norm = nn.LayerNorm(projection_dim, eps=1e-6)\n",
        "        self.flatten = nn.Flatten()\n",
        "        self.final_dropout = nn.Dropout(0.5)\n",
        "        self.mlp_head = MLP(num_patches * projection_dim, mlp_head_units, dropout_rate=0.5)\n",
        "        self.classifier = nn.Linear(mlp_head_units[-1], num_classes)\n",
        "\n",
        "        # Mask\n",
        "        self.diag_attn_mask = diag_attn_mask if diag_attn_mask is not None else None\n",
        "\n",
        "    def forward(self, x):\n",
        "        # x: (B, 3, H, W)\n",
        "        x = self.data_augmentation(x)  # (optional, can use outside the model)\n",
        "        tokens, _ = self.spt(x)  # (B, num_patches, projection_dim)\n",
        "        x = self.patch_encoder(tokens)  # (B, num_patches, projection_dim)\n",
        "\n",
        "        for block in self.transformer_blocks:\n",
        "            # LayerNorm 1\n",
        "            x1 = block['norm1'](x)\n",
        "            # Attention\n",
        "            if not self.vanilla:\n",
        "                # LSA (mask: (1, num_patches, num_patches))\n",
        "                attn_mask = self.diag_attn_mask.to(device)\n",
        "                attn_out, _ = block['mha'](x1, x1, x1, mask=attn_mask)\n",
        "            else:\n",
        "                attn_out, _ = block['mha'](x1, x1, x1)\n",
        "            # Residual 1\n",
        "            x2 = x + attn_out\n",
        "            # LayerNorm 2\n",
        "            x3 = block['norm2'](x2)\n",
        "            # MLP\n",
        "            x3 = block['mlp'](x3)\n",
        "            # Residual 2\n",
        "            x = x2 + x3\n",
        "\n",
        "        # Final norm and flatten\n",
        "        x = self.final_norm(x)\n",
        "        x = self.flatten(x)\n",
        "        x = self.final_dropout(x)\n",
        "        x = self.mlp_head(x)\n",
        "        logits = self.classifier(x)\n",
        "        return logits\n"
      ]
    },
    {
      "cell_type": "markdown",
      "metadata": {
        "id": "ifZtTQIk_yQ2"
      },
      "source": [
        "## Compile, train, and evaluate the mode"
      ]
    },
    {
      "cell_type": "code",
      "source": [
        "import math\n",
        "from torch.optim.lr_scheduler import LambdaLR\n",
        "\n",
        "def get_cosine_schedule_with_warmup(optimizer, num_warmup_steps, num_training_steps, base_lr):\n",
        "    def lr_lambda(current_step):\n",
        "        if current_step < num_warmup_steps:\n",
        "            return float(current_step) / float(max(1, num_warmup_steps))\n",
        "        progress = float(current_step - num_warmup_steps) / float(max(1, num_training_steps - num_warmup_steps))\n",
        "        return 0.5 * (1.0 + math.cos(math.pi * progress))\n",
        "    return LambdaLR(optimizer, lr_lambda)\n"
      ],
      "metadata": {
        "id": "IC46Z0oPnEGa"
      },
      "execution_count": 19,
      "outputs": []
    },
    {
      "cell_type": "code",
      "source": [
        "!pip install torchmetrics --quiet"
      ],
      "metadata": {
        "id": "lZU0QeAfnOvZ",
        "colab": {
          "base_uri": "https://localhost:8080/"
        },
        "outputId": "33aa5ed7-c312-4b83-ec2f-73475c96f00e"
      },
      "execution_count": 20,
      "outputs": [
        {
          "output_type": "stream",
          "name": "stdout",
          "text": [
            "\u001b[2K   \u001b[90m━━━━━━━━━━━━━━━━━━━━━━━━━━━━━━━━━━━━━━━━\u001b[0m \u001b[32m961.5/961.5 kB\u001b[0m \u001b[31m60.1 MB/s\u001b[0m eta \u001b[36m0:00:00\u001b[0m\n",
            "\u001b[2K   \u001b[90m━━━━━━━━━━━━━━━━━━━━━━━━━━━━━━━━━━━━━━━━\u001b[0m \u001b[32m363.4/363.4 MB\u001b[0m \u001b[31m1.5 MB/s\u001b[0m eta \u001b[36m0:00:00\u001b[0m\n",
            "\u001b[2K   \u001b[90m━━━━━━━━━━━━━━━━━━━━━━━━━━━━━━━━━━━━━━━━\u001b[0m \u001b[32m13.8/13.8 MB\u001b[0m \u001b[31m111.6 MB/s\u001b[0m eta \u001b[36m0:00:00\u001b[0m\n",
            "\u001b[2K   \u001b[90m━━━━━━━━━━━━━━━━━━━━━━━━━━━━━━━━━━━━━━━━\u001b[0m \u001b[32m24.6/24.6 MB\u001b[0m \u001b[31m79.9 MB/s\u001b[0m eta \u001b[36m0:00:00\u001b[0m\n",
            "\u001b[2K   \u001b[90m━━━━━━━━━━━━━━━━━━━━━━━━━━━━━━━━━━━━━━━━\u001b[0m \u001b[32m883.7/883.7 kB\u001b[0m \u001b[31m59.0 MB/s\u001b[0m eta \u001b[36m0:00:00\u001b[0m\n",
            "\u001b[2K   \u001b[90m━━━━━━━━━━━━━━━━━━━━━━━━━━━━━━━━━━━━━━━━\u001b[0m \u001b[32m664.8/664.8 MB\u001b[0m \u001b[31m2.6 MB/s\u001b[0m eta \u001b[36m0:00:00\u001b[0m\n",
            "\u001b[2K   \u001b[90m━━━━━━━━━━━━━━━━━━━━━━━━━━━━━━━━━━━━━━━━\u001b[0m \u001b[32m211.5/211.5 MB\u001b[0m \u001b[31m5.5 MB/s\u001b[0m eta \u001b[36m0:00:00\u001b[0m\n",
            "\u001b[2K   \u001b[90m━━━━━━━━━━━━━━━━━━━━━━━━━━━━━━━━━━━━━━━━\u001b[0m \u001b[32m56.3/56.3 MB\u001b[0m \u001b[31m14.6 MB/s\u001b[0m eta \u001b[36m0:00:00\u001b[0m\n",
            "\u001b[2K   \u001b[90m━━━━━━━━━━━━━━━━━━━━━━━━━━━━━━━━━━━━━━━━\u001b[0m \u001b[32m127.9/127.9 MB\u001b[0m \u001b[31m7.7 MB/s\u001b[0m eta \u001b[36m0:00:00\u001b[0m\n",
            "\u001b[2K   \u001b[90m━━━━━━━━━━━━━━━━━━━━━━━━━━━━━━━━━━━━━━━━\u001b[0m \u001b[32m207.5/207.5 MB\u001b[0m \u001b[31m5.9 MB/s\u001b[0m eta \u001b[36m0:00:00\u001b[0m\n",
            "\u001b[2K   \u001b[90m━━━━━━━━━━━━━━━━━━━━━━━━━━━━━━━━━━━━━━━━\u001b[0m \u001b[32m21.1/21.1 MB\u001b[0m \u001b[31m97.1 MB/s\u001b[0m eta \u001b[36m0:00:00\u001b[0m\n",
            "\u001b[?25h"
          ]
        }
      ]
    },
    {
      "cell_type": "code",
      "execution_count": 21,
      "metadata": {
        "id": "JENZZWiz_yQ2"
      },
      "outputs": [],
      "source": [
        "import torch\n",
        "from torch.utils.data import random_split, DataLoader\n",
        "from torch.optim import AdamW\n",
        "from torchmetrics.classification import MulticlassAccuracy\n",
        "\n",
        "def run_experiment(model, train_dataset, test_dataset, device):\n",
        "    # Prepare train/val split\n",
        "    val_fraction = 0.1\n",
        "    val_size = int(len(train_dataset) * val_fraction)\n",
        "    train_size = len(train_dataset) - val_size\n",
        "    train_ds, val_ds = random_split(train_dataset, [train_size, val_size])\n",
        "\n",
        "    train_loader = DataLoader(train_ds, batch_size=BATCH_SIZE, shuffle=True, num_workers=2)\n",
        "    val_loader = DataLoader(val_ds, batch_size=BATCH_SIZE, shuffle=False, num_workers=2)\n",
        "    test_loader = DataLoader(test_dataset, batch_size=BATCH_SIZE, shuffle=False, num_workers=2)\n",
        "\n",
        "    model = model.to(device)\n",
        "    optimizer = AdamW(model.parameters(), lr=LEARNING_RATE, weight_decay=WEIGHT_DECAY)\n",
        "\n",
        "    # Scheduler\n",
        "    total_steps = EPOCHS * len(train_loader)\n",
        "    warmup_steps = int(total_steps * 0.1)\n",
        "    scheduler = get_cosine_schedule_with_warmup(optimizer, warmup_steps, total_steps, LEARNING_RATE)\n",
        "\n",
        "    # Loss and metrics\n",
        "    criterion = torch.nn.CrossEntropyLoss()\n",
        "    acc_metric = MulticlassAccuracy(num_classes=NUM_CLASSES, top_k=1).to(device)\n",
        "    acc5_metric = MulticlassAccuracy(num_classes=NUM_CLASSES, top_k=5).to(device)\n",
        "\n",
        "    for epoch in tqdm(range(EPOCHS)):\n",
        "        model.train()\n",
        "        train_loss = 0.0\n",
        "        for step, (x, y) in enumerate(train_loader):\n",
        "            x, y = x.to(device), y.to(device)\n",
        "            optimizer.zero_grad()\n",
        "            logits = model(x)\n",
        "            loss = criterion(logits, y)\n",
        "            loss.backward()\n",
        "            optimizer.step()\n",
        "            scheduler.step()\n",
        "            train_loss += loss.item()\n",
        "\n",
        "        # Validation\n",
        "        model.eval()\n",
        "        val_acc = 0.0\n",
        "        val_acc5 = 0.0\n",
        "        count = 0\n",
        "        with torch.no_grad():\n",
        "            for x, y in val_loader:\n",
        "                x, y = x.to(device), y.to(device)\n",
        "                logits = model(x)\n",
        "                val_acc += acc_metric(logits, y).item() * x.size(0)\n",
        "                val_acc5 += acc5_metric(logits, y).item() * x.size(0)\n",
        "                count += x.size(0)\n",
        "        print(f\"Epoch {epoch+1}/{EPOCHS} | Loss: {train_loss/len(train_loader):.4f} | \"\n",
        "              f\"Val Acc: {val_acc/count:.4f} | Val Top-5 Acc: {val_acc5/count:.4f}\")\n",
        "\n",
        "    # Test set\n",
        "    model.eval()\n",
        "    test_acc = 0.0\n",
        "    test_acc5 = 0.0\n",
        "    count = 0\n",
        "    with torch.no_grad():\n",
        "        for x, y in test_loader:\n",
        "            x, y = x.to(device), y.to(device)\n",
        "            logits = model(x)\n",
        "            test_acc += acc_metric(logits, y).item() * x.size(0)\n",
        "            test_acc5 += acc5_metric(logits, y).item() * x.size(0)\n",
        "            count += x.size(0)\n",
        "    print(f\"Test accuracy: {test_acc/count*100:.2f}%\")\n",
        "    print(f\"Test top 5 accuracy: {test_acc5/count*100:.2f}%\")\n",
        "\n",
        "    return model\n"
      ]
    },
    {
      "cell_type": "code",
      "source": [
        "device = torch.device(\"cuda\" if torch.cuda.is_available() else \"cpu\")\n",
        "\n",
        "# Train Vanilla ViT\n",
        "vit = ViTClassifier(vanilla=True)\n",
        "run_experiment(vit, train_dataset, test_dataset, device)\n",
        "\n"
      ],
      "metadata": {
        "id": "Jh0vSJl2oCL-",
        "colab": {
          "base_uri": "https://localhost:8080/"
        },
        "outputId": "65ca76b6-11df-4d92-e001-52dab14bdf04"
      },
      "execution_count": 22,
      "outputs": [
        {
          "output_type": "stream",
          "name": "stderr",
          "text": [
            "  2%|▏         | 1/50 [00:46<37:56, 46.45s/it]"
          ]
        },
        {
          "output_type": "stream",
          "name": "stdout",
          "text": [
            "Epoch 1/50 | Loss: 4.3737 | Val Acc: 0.1039 | Val Top-5 Acc: 0.3140\n"
          ]
        },
        {
          "output_type": "stream",
          "name": "stderr",
          "text": [
            "\r  4%|▍         | 2/50 [01:26<34:14, 42.80s/it]"
          ]
        },
        {
          "output_type": "stream",
          "name": "stdout",
          "text": [
            "Epoch 2/50 | Loss: 3.8940 | Val Acc: 0.1565 | Val Top-5 Acc: 0.4101\n"
          ]
        },
        {
          "output_type": "stream",
          "name": "stderr",
          "text": [
            "\r  6%|▌         | 3/50 [02:08<33:05, 42.24s/it]"
          ]
        },
        {
          "output_type": "stream",
          "name": "stdout",
          "text": [
            "Epoch 3/50 | Loss: 3.6522 | Val Acc: 0.1906 | Val Top-5 Acc: 0.4712\n"
          ]
        },
        {
          "output_type": "stream",
          "name": "stderr",
          "text": [
            "\r  8%|▊         | 4/50 [02:48<31:42, 41.35s/it]"
          ]
        },
        {
          "output_type": "stream",
          "name": "stdout",
          "text": [
            "Epoch 4/50 | Loss: 3.4878 | Val Acc: 0.2071 | Val Top-5 Acc: 0.5089\n"
          ]
        },
        {
          "output_type": "stream",
          "name": "stderr",
          "text": [
            "\r 10%|█         | 5/50 [03:27<30:34, 40.77s/it]"
          ]
        },
        {
          "output_type": "stream",
          "name": "stdout",
          "text": [
            "Epoch 5/50 | Loss: 3.3988 | Val Acc: 0.2294 | Val Top-5 Acc: 0.5319\n"
          ]
        },
        {
          "output_type": "stream",
          "name": "stderr",
          "text": [
            "\r 12%|█▏        | 6/50 [04:07<29:38, 40.43s/it]"
          ]
        },
        {
          "output_type": "stream",
          "name": "stdout",
          "text": [
            "Epoch 6/50 | Loss: 3.3295 | Val Acc: 0.2401 | Val Top-5 Acc: 0.5575\n"
          ]
        },
        {
          "output_type": "stream",
          "name": "stderr",
          "text": [
            "\r 14%|█▍        | 7/50 [04:47<28:53, 40.31s/it]"
          ]
        },
        {
          "output_type": "stream",
          "name": "stdout",
          "text": [
            "Epoch 7/50 | Loss: 3.2201 | Val Acc: 0.2614 | Val Top-5 Acc: 0.5791\n"
          ]
        },
        {
          "output_type": "stream",
          "name": "stderr",
          "text": [
            "\r 16%|█▌        | 8/50 [05:28<28:11, 40.27s/it]"
          ]
        },
        {
          "output_type": "stream",
          "name": "stdout",
          "text": [
            "Epoch 8/50 | Loss: 3.0980 | Val Acc: 0.2686 | Val Top-5 Acc: 0.5804\n"
          ]
        },
        {
          "output_type": "stream",
          "name": "stderr",
          "text": [
            "\r 18%|█▊        | 9/50 [06:07<27:25, 40.15s/it]"
          ]
        },
        {
          "output_type": "stream",
          "name": "stdout",
          "text": [
            "Epoch 9/50 | Loss: 3.0023 | Val Acc: 0.2873 | Val Top-5 Acc: 0.6099\n"
          ]
        },
        {
          "output_type": "stream",
          "name": "stderr",
          "text": [
            "\r 20%|██        | 10/50 [06:49<26:58, 40.46s/it]"
          ]
        },
        {
          "output_type": "stream",
          "name": "stdout",
          "text": [
            "Epoch 10/50 | Loss: 2.8861 | Val Acc: 0.3096 | Val Top-5 Acc: 0.6203\n"
          ]
        },
        {
          "output_type": "stream",
          "name": "stderr",
          "text": [
            "\r 22%|██▏       | 11/50 [07:28<26:10, 40.26s/it]"
          ]
        },
        {
          "output_type": "stream",
          "name": "stdout",
          "text": [
            "Epoch 11/50 | Loss: 2.8017 | Val Acc: 0.3096 | Val Top-5 Acc: 0.6407\n"
          ]
        },
        {
          "output_type": "stream",
          "name": "stderr",
          "text": [
            "\r 24%|██▍       | 12/50 [08:08<25:26, 40.16s/it]"
          ]
        },
        {
          "output_type": "stream",
          "name": "stdout",
          "text": [
            "Epoch 12/50 | Loss: 2.7208 | Val Acc: 0.3312 | Val Top-5 Acc: 0.6512\n"
          ]
        },
        {
          "output_type": "stream",
          "name": "stderr",
          "text": [
            "\r 26%|██▌       | 13/50 [08:48<24:41, 40.03s/it]"
          ]
        },
        {
          "output_type": "stream",
          "name": "stdout",
          "text": [
            "Epoch 13/50 | Loss: 2.6425 | Val Acc: 0.3316 | Val Top-5 Acc: 0.6510\n"
          ]
        },
        {
          "output_type": "stream",
          "name": "stderr",
          "text": [
            "\r 28%|██▊       | 14/50 [09:28<23:55, 39.88s/it]"
          ]
        },
        {
          "output_type": "stream",
          "name": "stdout",
          "text": [
            "Epoch 14/50 | Loss: 2.5742 | Val Acc: 0.3477 | Val Top-5 Acc: 0.6705\n"
          ]
        },
        {
          "output_type": "stream",
          "name": "stderr",
          "text": [
            "\r 30%|███       | 15/50 [10:07<23:15, 39.87s/it]"
          ]
        },
        {
          "output_type": "stream",
          "name": "stdout",
          "text": [
            "Epoch 15/50 | Loss: 2.5081 | Val Acc: 0.3455 | Val Top-5 Acc: 0.6708\n"
          ]
        },
        {
          "output_type": "stream",
          "name": "stderr",
          "text": [
            "\r 32%|███▏      | 16/50 [10:48<22:40, 40.00s/it]"
          ]
        },
        {
          "output_type": "stream",
          "name": "stdout",
          "text": [
            "Epoch 16/50 | Loss: 2.4547 | Val Acc: 0.3625 | Val Top-5 Acc: 0.6796\n"
          ]
        },
        {
          "output_type": "stream",
          "name": "stderr",
          "text": [
            "\r 34%|███▍      | 17/50 [11:28<22:03, 40.10s/it]"
          ]
        },
        {
          "output_type": "stream",
          "name": "stdout",
          "text": [
            "Epoch 17/50 | Loss: 2.3801 | Val Acc: 0.3681 | Val Top-5 Acc: 0.6865\n"
          ]
        },
        {
          "output_type": "stream",
          "name": "stderr",
          "text": [
            "\r 36%|███▌      | 18/50 [12:09<21:27, 40.23s/it]"
          ]
        },
        {
          "output_type": "stream",
          "name": "stdout",
          "text": [
            "Epoch 18/50 | Loss: 2.3106 | Val Acc: 0.3756 | Val Top-5 Acc: 0.6905\n"
          ]
        },
        {
          "output_type": "stream",
          "name": "stderr",
          "text": [
            "\r 38%|███▊      | 19/50 [12:48<20:43, 40.11s/it]"
          ]
        },
        {
          "output_type": "stream",
          "name": "stdout",
          "text": [
            "Epoch 19/50 | Loss: 2.2597 | Val Acc: 0.3813 | Val Top-5 Acc: 0.6955\n"
          ]
        },
        {
          "output_type": "stream",
          "name": "stderr",
          "text": [
            "\r 40%|████      | 20/50 [13:28<20:01, 40.07s/it]"
          ]
        },
        {
          "output_type": "stream",
          "name": "stdout",
          "text": [
            "Epoch 20/50 | Loss: 2.2120 | Val Acc: 0.3770 | Val Top-5 Acc: 0.7000\n"
          ]
        },
        {
          "output_type": "stream",
          "name": "stderr",
          "text": [
            "\r 42%|████▏     | 21/50 [14:08<19:20, 40.02s/it]"
          ]
        },
        {
          "output_type": "stream",
          "name": "stdout",
          "text": [
            "Epoch 21/50 | Loss: 2.1522 | Val Acc: 0.3888 | Val Top-5 Acc: 0.7042\n"
          ]
        },
        {
          "output_type": "stream",
          "name": "stderr",
          "text": [
            "\r 44%|████▍     | 22/50 [14:48<18:40, 40.00s/it]"
          ]
        },
        {
          "output_type": "stream",
          "name": "stdout",
          "text": [
            "Epoch 22/50 | Loss: 2.0987 | Val Acc: 0.3903 | Val Top-5 Acc: 0.7087\n"
          ]
        },
        {
          "output_type": "stream",
          "name": "stderr",
          "text": [
            "\r 46%|████▌     | 23/50 [15:28<18:01, 40.07s/it]"
          ]
        },
        {
          "output_type": "stream",
          "name": "stdout",
          "text": [
            "Epoch 23/50 | Loss: 2.0294 | Val Acc: 0.3934 | Val Top-5 Acc: 0.7056\n"
          ]
        },
        {
          "output_type": "stream",
          "name": "stderr",
          "text": [
            "\r 48%|████▊     | 24/50 [16:08<17:20, 40.04s/it]"
          ]
        },
        {
          "output_type": "stream",
          "name": "stdout",
          "text": [
            "Epoch 24/50 | Loss: 1.9740 | Val Acc: 0.4035 | Val Top-5 Acc: 0.7185\n"
          ]
        },
        {
          "output_type": "stream",
          "name": "stderr",
          "text": [
            "\r 50%|█████     | 25/50 [16:49<16:46, 40.26s/it]"
          ]
        },
        {
          "output_type": "stream",
          "name": "stdout",
          "text": [
            "Epoch 25/50 | Loss: 1.9299 | Val Acc: 0.3943 | Val Top-5 Acc: 0.7132\n"
          ]
        },
        {
          "output_type": "stream",
          "name": "stderr",
          "text": [
            "\r 52%|█████▏    | 26/50 [17:29<16:03, 40.14s/it]"
          ]
        },
        {
          "output_type": "stream",
          "name": "stdout",
          "text": [
            "Epoch 26/50 | Loss: 1.8741 | Val Acc: 0.4032 | Val Top-5 Acc: 0.7221\n"
          ]
        },
        {
          "output_type": "stream",
          "name": "stderr",
          "text": [
            "\r 54%|█████▍    | 27/50 [18:08<15:16, 39.83s/it]"
          ]
        },
        {
          "output_type": "stream",
          "name": "stdout",
          "text": [
            "Epoch 27/50 | Loss: 1.8143 | Val Acc: 0.4054 | Val Top-5 Acc: 0.7188\n"
          ]
        },
        {
          "output_type": "stream",
          "name": "stderr",
          "text": [
            "\r 56%|█████▌    | 28/50 [18:48<14:36, 39.84s/it]"
          ]
        },
        {
          "output_type": "stream",
          "name": "stdout",
          "text": [
            "Epoch 28/50 | Loss: 1.7598 | Val Acc: 0.4059 | Val Top-5 Acc: 0.7301\n"
          ]
        },
        {
          "output_type": "stream",
          "name": "stderr",
          "text": [
            "\r 58%|█████▊    | 29/50 [19:28<13:58, 39.93s/it]"
          ]
        },
        {
          "output_type": "stream",
          "name": "stdout",
          "text": [
            "Epoch 29/50 | Loss: 1.7082 | Val Acc: 0.4167 | Val Top-5 Acc: 0.7241\n"
          ]
        },
        {
          "output_type": "stream",
          "name": "stderr",
          "text": [
            "\r 60%|██████    | 30/50 [20:08<13:18, 39.94s/it]"
          ]
        },
        {
          "output_type": "stream",
          "name": "stdout",
          "text": [
            "Epoch 30/50 | Loss: 1.6740 | Val Acc: 0.4181 | Val Top-5 Acc: 0.7309\n"
          ]
        },
        {
          "output_type": "stream",
          "name": "stderr",
          "text": [
            "\r 62%|██████▏   | 31/50 [20:48<12:39, 39.95s/it]"
          ]
        },
        {
          "output_type": "stream",
          "name": "stdout",
          "text": [
            "Epoch 31/50 | Loss: 1.6238 | Val Acc: 0.4126 | Val Top-5 Acc: 0.7344\n"
          ]
        },
        {
          "output_type": "stream",
          "name": "stderr",
          "text": [
            "\r 64%|██████▍   | 32/50 [21:29<12:02, 40.16s/it]"
          ]
        },
        {
          "output_type": "stream",
          "name": "stdout",
          "text": [
            "Epoch 32/50 | Loss: 1.5782 | Val Acc: 0.4183 | Val Top-5 Acc: 0.7259\n"
          ]
        },
        {
          "output_type": "stream",
          "name": "stderr",
          "text": [
            "\r 66%|██████▌   | 33/50 [22:10<11:27, 40.46s/it]"
          ]
        },
        {
          "output_type": "stream",
          "name": "stdout",
          "text": [
            "Epoch 33/50 | Loss: 1.5434 | Val Acc: 0.4251 | Val Top-5 Acc: 0.7295\n"
          ]
        },
        {
          "output_type": "stream",
          "name": "stderr",
          "text": [
            "\r 68%|██████▊   | 34/50 [22:50<10:44, 40.29s/it]"
          ]
        },
        {
          "output_type": "stream",
          "name": "stdout",
          "text": [
            "Epoch 34/50 | Loss: 1.5052 | Val Acc: 0.4198 | Val Top-5 Acc: 0.7366\n"
          ]
        },
        {
          "output_type": "stream",
          "name": "stderr",
          "text": [
            "\r 70%|███████   | 35/50 [23:30<10:02, 40.14s/it]"
          ]
        },
        {
          "output_type": "stream",
          "name": "stdout",
          "text": [
            "Epoch 35/50 | Loss: 1.4603 | Val Acc: 0.4250 | Val Top-5 Acc: 0.7424\n"
          ]
        },
        {
          "output_type": "stream",
          "name": "stderr",
          "text": [
            "\r 72%|███████▏  | 36/50 [24:09<09:20, 40.03s/it]"
          ]
        },
        {
          "output_type": "stream",
          "name": "stdout",
          "text": [
            "Epoch 36/50 | Loss: 1.4344 | Val Acc: 0.4283 | Val Top-5 Acc: 0.7363\n"
          ]
        },
        {
          "output_type": "stream",
          "name": "stderr",
          "text": [
            "\r 74%|███████▍  | 37/50 [24:49<08:39, 40.00s/it]"
          ]
        },
        {
          "output_type": "stream",
          "name": "stdout",
          "text": [
            "Epoch 37/50 | Loss: 1.3987 | Val Acc: 0.4268 | Val Top-5 Acc: 0.7314\n"
          ]
        },
        {
          "output_type": "stream",
          "name": "stderr",
          "text": [
            "\r 76%|███████▌  | 38/50 [25:30<08:00, 40.06s/it]"
          ]
        },
        {
          "output_type": "stream",
          "name": "stdout",
          "text": [
            "Epoch 38/50 | Loss: 1.3746 | Val Acc: 0.4326 | Val Top-5 Acc: 0.7421\n"
          ]
        },
        {
          "output_type": "stream",
          "name": "stderr",
          "text": [
            "\r 78%|███████▊  | 39/50 [26:09<07:20, 40.03s/it]"
          ]
        },
        {
          "output_type": "stream",
          "name": "stdout",
          "text": [
            "Epoch 39/50 | Loss: 1.3454 | Val Acc: 0.4322 | Val Top-5 Acc: 0.7362\n"
          ]
        },
        {
          "output_type": "stream",
          "name": "stderr",
          "text": [
            "\r 80%|████████  | 40/50 [26:50<06:42, 40.26s/it]"
          ]
        },
        {
          "output_type": "stream",
          "name": "stdout",
          "text": [
            "Epoch 40/50 | Loss: 1.3292 | Val Acc: 0.4245 | Val Top-5 Acc: 0.7449\n"
          ]
        },
        {
          "output_type": "stream",
          "name": "stderr",
          "text": [
            "\r 82%|████████▏ | 41/50 [27:31<06:02, 40.26s/it]"
          ]
        },
        {
          "output_type": "stream",
          "name": "stdout",
          "text": [
            "Epoch 41/50 | Loss: 1.3105 | Val Acc: 0.4337 | Val Top-5 Acc: 0.7433\n"
          ]
        },
        {
          "output_type": "stream",
          "name": "stderr",
          "text": [
            "\r 84%|████████▍ | 42/50 [28:10<05:20, 40.02s/it]"
          ]
        },
        {
          "output_type": "stream",
          "name": "stdout",
          "text": [
            "Epoch 42/50 | Loss: 1.2842 | Val Acc: 0.4342 | Val Top-5 Acc: 0.7384\n"
          ]
        },
        {
          "output_type": "stream",
          "name": "stderr",
          "text": [
            "\r 86%|████████▌ | 43/50 [28:50<04:39, 39.91s/it]"
          ]
        },
        {
          "output_type": "stream",
          "name": "stdout",
          "text": [
            "Epoch 43/50 | Loss: 1.2760 | Val Acc: 0.4388 | Val Top-5 Acc: 0.7460\n"
          ]
        },
        {
          "output_type": "stream",
          "name": "stderr",
          "text": [
            "\r 88%|████████▊ | 44/50 [29:29<03:59, 39.86s/it]"
          ]
        },
        {
          "output_type": "stream",
          "name": "stdout",
          "text": [
            "Epoch 44/50 | Loss: 1.2634 | Val Acc: 0.4371 | Val Top-5 Acc: 0.7430\n"
          ]
        },
        {
          "output_type": "stream",
          "name": "stderr",
          "text": [
            "\r 90%|█████████ | 45/50 [30:09<03:19, 39.88s/it]"
          ]
        },
        {
          "output_type": "stream",
          "name": "stdout",
          "text": [
            "Epoch 45/50 | Loss: 1.2583 | Val Acc: 0.4359 | Val Top-5 Acc: 0.7434\n"
          ]
        },
        {
          "output_type": "stream",
          "name": "stderr",
          "text": [
            "\r 92%|█████████▏| 46/50 [30:49<02:39, 39.85s/it]"
          ]
        },
        {
          "output_type": "stream",
          "name": "stdout",
          "text": [
            "Epoch 46/50 | Loss: 1.2464 | Val Acc: 0.4406 | Val Top-5 Acc: 0.7416\n"
          ]
        },
        {
          "output_type": "stream",
          "name": "stderr",
          "text": [
            "\r 94%|█████████▍| 47/50 [31:29<01:59, 39.78s/it]"
          ]
        },
        {
          "output_type": "stream",
          "name": "stdout",
          "text": [
            "Epoch 47/50 | Loss: 1.2404 | Val Acc: 0.4363 | Val Top-5 Acc: 0.7451\n"
          ]
        },
        {
          "output_type": "stream",
          "name": "stderr",
          "text": [
            "\r 96%|█████████▌| 48/50 [32:10<01:20, 40.17s/it]"
          ]
        },
        {
          "output_type": "stream",
          "name": "stdout",
          "text": [
            "Epoch 48/50 | Loss: 1.2353 | Val Acc: 0.4325 | Val Top-5 Acc: 0.7452\n"
          ]
        },
        {
          "output_type": "stream",
          "name": "stderr",
          "text": [
            "\r 98%|█████████▊| 49/50 [32:50<00:40, 40.20s/it]"
          ]
        },
        {
          "output_type": "stream",
          "name": "stdout",
          "text": [
            "Epoch 49/50 | Loss: 1.2333 | Val Acc: 0.4347 | Val Top-5 Acc: 0.7403\n"
          ]
        },
        {
          "output_type": "stream",
          "name": "stderr",
          "text": [
            "100%|██████████| 50/50 [33:29<00:00, 40.20s/it]"
          ]
        },
        {
          "output_type": "stream",
          "name": "stdout",
          "text": [
            "Epoch 50/50 | Loss: 1.2334 | Val Acc: 0.4369 | Val Top-5 Acc: 0.7424\n"
          ]
        },
        {
          "output_type": "stream",
          "name": "stderr",
          "text": [
            "\n"
          ]
        },
        {
          "output_type": "stream",
          "name": "stdout",
          "text": [
            "Test accuracy: 43.06%\n",
            "Test top 5 accuracy: 73.57%\n"
          ]
        },
        {
          "output_type": "execute_result",
          "data": {
            "text/plain": [
              "ViTClassifier(\n",
              "  (data_augmentation): Identity()\n",
              "  (spt): SPT(\n",
              "    (layer_norm): LayerNorm((108,), eps=1e-06, elementwise_affine=True)\n",
              "    (projection): Linear(in_features=108, out_features=64, bias=True)\n",
              "  )\n",
              "  (patch_encoder): PatchEncoder(\n",
              "    (position_embedding): Embedding(144, 64)\n",
              "  )\n",
              "  (transformer_blocks): ModuleList(\n",
              "    (0-7): 8 x ModuleDict(\n",
              "      (norm1): LayerNorm((64,), eps=1e-06, elementwise_affine=True)\n",
              "      (mha): MultiheadAttention(\n",
              "        (out_proj): NonDynamicallyQuantizableLinear(in_features=64, out_features=64, bias=True)\n",
              "      )\n",
              "      (norm2): LayerNorm((64,), eps=1e-06, elementwise_affine=True)\n",
              "      (mlp): MLP(\n",
              "        (mlp): Sequential(\n",
              "          (0): Linear(in_features=64, out_features=128, bias=True)\n",
              "          (1): GELU(approximate='none')\n",
              "          (2): Dropout(p=0.1, inplace=False)\n",
              "          (3): Linear(in_features=128, out_features=64, bias=True)\n",
              "          (4): GELU(approximate='none')\n",
              "          (5): Dropout(p=0.1, inplace=False)\n",
              "        )\n",
              "      )\n",
              "    )\n",
              "  )\n",
              "  (final_norm): LayerNorm((64,), eps=1e-06, elementwise_affine=True)\n",
              "  (flatten): Flatten(start_dim=1, end_dim=-1)\n",
              "  (final_dropout): Dropout(p=0.5, inplace=False)\n",
              "  (mlp_head): MLP(\n",
              "    (mlp): Sequential(\n",
              "      (0): Linear(in_features=9216, out_features=2048, bias=True)\n",
              "      (1): GELU(approximate='none')\n",
              "      (2): Dropout(p=0.5, inplace=False)\n",
              "      (3): Linear(in_features=2048, out_features=1024, bias=True)\n",
              "      (4): GELU(approximate='none')\n",
              "      (5): Dropout(p=0.5, inplace=False)\n",
              "    )\n",
              "  )\n",
              "  (classifier): Linear(in_features=1024, out_features=100, bias=True)\n",
              ")"
            ]
          },
          "metadata": {},
          "execution_count": 22
        }
      ]
    },
    {
      "cell_type": "code",
      "source": [
        "# Train SPT+LSA ViT\n",
        "vit_sl = ViTClassifier(vanilla=False, diag_attn_mask=diag_attn_mask)\n",
        "run_experiment(vit_sl, train_dataset, test_dataset, device)\n"
      ],
      "metadata": {
        "id": "hzZpgXifoIeB",
        "colab": {
          "base_uri": "https://localhost:8080/"
        },
        "outputId": "dd0ca36e-96bd-4309-a1b5-944b6ec1201b"
      },
      "execution_count": 23,
      "outputs": [
        {
          "output_type": "stream",
          "name": "stderr",
          "text": [
            "  2%|▏         | 1/50 [00:44<36:43, 44.98s/it]"
          ]
        },
        {
          "output_type": "stream",
          "name": "stdout",
          "text": [
            "Epoch 1/50 | Loss: 4.4000 | Val Acc: 0.1084 | Val Top-5 Acc: 0.2964\n"
          ]
        },
        {
          "output_type": "stream",
          "name": "stderr",
          "text": [
            "\r  4%|▍         | 2/50 [01:28<35:21, 44.19s/it]"
          ]
        },
        {
          "output_type": "stream",
          "name": "stdout",
          "text": [
            "Epoch 2/50 | Loss: 3.8629 | Val Acc: 0.1651 | Val Top-5 Acc: 0.4180\n"
          ]
        },
        {
          "output_type": "stream",
          "name": "stderr",
          "text": [
            "\r  6%|▌         | 3/50 [02:13<34:50, 44.48s/it]"
          ]
        },
        {
          "output_type": "stream",
          "name": "stdout",
          "text": [
            "Epoch 3/50 | Loss: 3.6201 | Val Acc: 0.1934 | Val Top-5 Acc: 0.4539\n"
          ]
        },
        {
          "output_type": "stream",
          "name": "stderr",
          "text": [
            "\r  8%|▊         | 4/50 [02:57<33:58, 44.32s/it]"
          ]
        },
        {
          "output_type": "stream",
          "name": "stdout",
          "text": [
            "Epoch 4/50 | Loss: 3.4668 | Val Acc: 0.2052 | Val Top-5 Acc: 0.4863\n"
          ]
        },
        {
          "output_type": "stream",
          "name": "stderr",
          "text": [
            "\r 10%|█         | 5/50 [03:42<33:20, 44.46s/it]"
          ]
        },
        {
          "output_type": "stream",
          "name": "stdout",
          "text": [
            "Epoch 5/50 | Loss: 3.3732 | Val Acc: 0.2254 | Val Top-5 Acc: 0.5233\n"
          ]
        },
        {
          "output_type": "stream",
          "name": "stderr",
          "text": [
            "\r 12%|█▏        | 6/50 [04:26<32:31, 44.36s/it]"
          ]
        },
        {
          "output_type": "stream",
          "name": "stdout",
          "text": [
            "Epoch 6/50 | Loss: 3.3003 | Val Acc: 0.2344 | Val Top-5 Acc: 0.5355\n"
          ]
        },
        {
          "output_type": "stream",
          "name": "stderr",
          "text": [
            "\r 14%|█▍        | 7/50 [05:11<32:03, 44.73s/it]"
          ]
        },
        {
          "output_type": "stream",
          "name": "stdout",
          "text": [
            "Epoch 7/50 | Loss: 3.1666 | Val Acc: 0.2506 | Val Top-5 Acc: 0.5715\n"
          ]
        },
        {
          "output_type": "stream",
          "name": "stderr",
          "text": [
            "\r 16%|█▌        | 8/50 [05:56<31:12, 44.59s/it]"
          ]
        },
        {
          "output_type": "stream",
          "name": "stdout",
          "text": [
            "Epoch 8/50 | Loss: 3.0339 | Val Acc: 0.2796 | Val Top-5 Acc: 0.5830\n"
          ]
        },
        {
          "output_type": "stream",
          "name": "stderr",
          "text": [
            "\r 18%|█▊        | 9/50 [06:40<30:23, 44.47s/it]"
          ]
        },
        {
          "output_type": "stream",
          "name": "stdout",
          "text": [
            "Epoch 9/50 | Loss: 2.9067 | Val Acc: 0.2951 | Val Top-5 Acc: 0.6183\n"
          ]
        },
        {
          "output_type": "stream",
          "name": "stderr",
          "text": [
            "\r 20%|██        | 10/50 [07:24<29:39, 44.50s/it]"
          ]
        },
        {
          "output_type": "stream",
          "name": "stdout",
          "text": [
            "Epoch 10/50 | Loss: 2.7624 | Val Acc: 0.3189 | Val Top-5 Acc: 0.6332\n"
          ]
        },
        {
          "output_type": "stream",
          "name": "stderr",
          "text": [
            "\r 22%|██▏       | 11/50 [08:09<28:54, 44.48s/it]"
          ]
        },
        {
          "output_type": "stream",
          "name": "stdout",
          "text": [
            "Epoch 11/50 | Loss: 2.6358 | Val Acc: 0.3291 | Val Top-5 Acc: 0.6374\n"
          ]
        },
        {
          "output_type": "stream",
          "name": "stderr",
          "text": [
            "\r 24%|██▍       | 12/50 [08:54<28:13, 44.57s/it]"
          ]
        },
        {
          "output_type": "stream",
          "name": "stdout",
          "text": [
            "Epoch 12/50 | Loss: 2.5190 | Val Acc: 0.3451 | Val Top-5 Acc: 0.6753\n"
          ]
        },
        {
          "output_type": "stream",
          "name": "stderr",
          "text": [
            "\r 26%|██▌       | 13/50 [09:38<27:30, 44.60s/it]"
          ]
        },
        {
          "output_type": "stream",
          "name": "stdout",
          "text": [
            "Epoch 13/50 | Loss: 2.4284 | Val Acc: 0.3706 | Val Top-5 Acc: 0.6874\n"
          ]
        },
        {
          "output_type": "stream",
          "name": "stderr",
          "text": [
            "\r 28%|██▊       | 14/50 [10:23<26:45, 44.61s/it]"
          ]
        },
        {
          "output_type": "stream",
          "name": "stdout",
          "text": [
            "Epoch 14/50 | Loss: 2.3374 | Val Acc: 0.3670 | Val Top-5 Acc: 0.6880\n"
          ]
        },
        {
          "output_type": "stream",
          "name": "stderr",
          "text": [
            "\r 30%|███       | 15/50 [11:07<25:57, 44.50s/it]"
          ]
        },
        {
          "output_type": "stream",
          "name": "stdout",
          "text": [
            "Epoch 15/50 | Loss: 2.2542 | Val Acc: 0.3842 | Val Top-5 Acc: 0.7047\n"
          ]
        },
        {
          "output_type": "stream",
          "name": "stderr",
          "text": [
            "\r 32%|███▏      | 16/50 [11:52<25:19, 44.68s/it]"
          ]
        },
        {
          "output_type": "stream",
          "name": "stdout",
          "text": [
            "Epoch 16/50 | Loss: 2.1906 | Val Acc: 0.3945 | Val Top-5 Acc: 0.7149\n"
          ]
        },
        {
          "output_type": "stream",
          "name": "stderr",
          "text": [
            "\r 34%|███▍      | 17/50 [12:37<24:31, 44.59s/it]"
          ]
        },
        {
          "output_type": "stream",
          "name": "stdout",
          "text": [
            "Epoch 17/50 | Loss: 2.1058 | Val Acc: 0.4120 | Val Top-5 Acc: 0.7277\n"
          ]
        },
        {
          "output_type": "stream",
          "name": "stderr",
          "text": [
            "\r 36%|███▌      | 18/50 [13:21<23:48, 44.63s/it]"
          ]
        },
        {
          "output_type": "stream",
          "name": "stdout",
          "text": [
            "Epoch 18/50 | Loss: 2.0373 | Val Acc: 0.4058 | Val Top-5 Acc: 0.7331\n"
          ]
        },
        {
          "output_type": "stream",
          "name": "stderr",
          "text": [
            "\r 38%|███▊      | 19/50 [14:06<23:00, 44.54s/it]"
          ]
        },
        {
          "output_type": "stream",
          "name": "stdout",
          "text": [
            "Epoch 19/50 | Loss: 1.9698 | Val Acc: 0.4112 | Val Top-5 Acc: 0.7383\n"
          ]
        },
        {
          "output_type": "stream",
          "name": "stderr",
          "text": [
            "\r 40%|████      | 20/50 [14:50<22:16, 44.54s/it]"
          ]
        },
        {
          "output_type": "stream",
          "name": "stdout",
          "text": [
            "Epoch 20/50 | Loss: 1.9158 | Val Acc: 0.4210 | Val Top-5 Acc: 0.7381\n"
          ]
        },
        {
          "output_type": "stream",
          "name": "stderr",
          "text": [
            "\r 42%|████▏     | 21/50 [15:34<21:26, 44.36s/it]"
          ]
        },
        {
          "output_type": "stream",
          "name": "stdout",
          "text": [
            "Epoch 21/50 | Loss: 1.8587 | Val Acc: 0.4343 | Val Top-5 Acc: 0.7473\n"
          ]
        },
        {
          "output_type": "stream",
          "name": "stderr",
          "text": [
            "\r 44%|████▍     | 22/50 [16:19<20:47, 44.54s/it]"
          ]
        },
        {
          "output_type": "stream",
          "name": "stdout",
          "text": [
            "Epoch 22/50 | Loss: 1.8024 | Val Acc: 0.4286 | Val Top-5 Acc: 0.7494\n"
          ]
        },
        {
          "output_type": "stream",
          "name": "stderr",
          "text": [
            "\r 46%|████▌     | 23/50 [17:04<20:01, 44.49s/it]"
          ]
        },
        {
          "output_type": "stream",
          "name": "stdout",
          "text": [
            "Epoch 23/50 | Loss: 1.7399 | Val Acc: 0.4346 | Val Top-5 Acc: 0.7569\n"
          ]
        },
        {
          "output_type": "stream",
          "name": "stderr",
          "text": [
            "\r 48%|████▊     | 24/50 [17:49<19:21, 44.68s/it]"
          ]
        },
        {
          "output_type": "stream",
          "name": "stdout",
          "text": [
            "Epoch 24/50 | Loss: 1.6844 | Val Acc: 0.4395 | Val Top-5 Acc: 0.7566\n"
          ]
        },
        {
          "output_type": "stream",
          "name": "stderr",
          "text": [
            "\r 50%|█████     | 25/50 [18:33<18:34, 44.56s/it]"
          ]
        },
        {
          "output_type": "stream",
          "name": "stdout",
          "text": [
            "Epoch 25/50 | Loss: 1.6405 | Val Acc: 0.4442 | Val Top-5 Acc: 0.7552\n"
          ]
        },
        {
          "output_type": "stream",
          "name": "stderr",
          "text": [
            "\r 52%|█████▏    | 26/50 [19:18<17:51, 44.66s/it]"
          ]
        },
        {
          "output_type": "stream",
          "name": "stdout",
          "text": [
            "Epoch 26/50 | Loss: 1.5817 | Val Acc: 0.4417 | Val Top-5 Acc: 0.7675\n"
          ]
        },
        {
          "output_type": "stream",
          "name": "stderr",
          "text": [
            "\r 54%|█████▍    | 27/50 [20:02<17:02, 44.46s/it]"
          ]
        },
        {
          "output_type": "stream",
          "name": "stdout",
          "text": [
            "Epoch 27/50 | Loss: 1.5499 | Val Acc: 0.4569 | Val Top-5 Acc: 0.7695\n"
          ]
        },
        {
          "output_type": "stream",
          "name": "stderr",
          "text": [
            "\r 56%|█████▌    | 28/50 [20:47<16:23, 44.72s/it]"
          ]
        },
        {
          "output_type": "stream",
          "name": "stdout",
          "text": [
            "Epoch 28/50 | Loss: 1.4937 | Val Acc: 0.4531 | Val Top-5 Acc: 0.7681\n"
          ]
        },
        {
          "output_type": "stream",
          "name": "stderr",
          "text": [
            "\r 58%|█████▊    | 29/50 [21:31<15:35, 44.53s/it]"
          ]
        },
        {
          "output_type": "stream",
          "name": "stdout",
          "text": [
            "Epoch 29/50 | Loss: 1.4523 | Val Acc: 0.4606 | Val Top-5 Acc: 0.7669\n"
          ]
        },
        {
          "output_type": "stream",
          "name": "stderr",
          "text": [
            "\r 60%|██████    | 30/50 [22:16<14:53, 44.69s/it]"
          ]
        },
        {
          "output_type": "stream",
          "name": "stdout",
          "text": [
            "Epoch 30/50 | Loss: 1.4036 | Val Acc: 0.4656 | Val Top-5 Acc: 0.7794\n"
          ]
        },
        {
          "output_type": "stream",
          "name": "stderr",
          "text": [
            "\r 62%|██████▏   | 31/50 [23:00<14:05, 44.47s/it]"
          ]
        },
        {
          "output_type": "stream",
          "name": "stdout",
          "text": [
            "Epoch 31/50 | Loss: 1.3643 | Val Acc: 0.4614 | Val Top-5 Acc: 0.7779\n"
          ]
        },
        {
          "output_type": "stream",
          "name": "stderr",
          "text": [
            "\r 64%|██████▍   | 32/50 [23:45<13:23, 44.63s/it]"
          ]
        },
        {
          "output_type": "stream",
          "name": "stdout",
          "text": [
            "Epoch 32/50 | Loss: 1.3280 | Val Acc: 0.4560 | Val Top-5 Acc: 0.7714\n"
          ]
        },
        {
          "output_type": "stream",
          "name": "stderr",
          "text": [
            "\r 66%|██████▌   | 33/50 [24:29<12:36, 44.49s/it]"
          ]
        },
        {
          "output_type": "stream",
          "name": "stdout",
          "text": [
            "Epoch 33/50 | Loss: 1.2827 | Val Acc: 0.4627 | Val Top-5 Acc: 0.7731\n"
          ]
        },
        {
          "output_type": "stream",
          "name": "stderr",
          "text": [
            "\r 68%|██████▊   | 34/50 [25:14<11:50, 44.43s/it]"
          ]
        },
        {
          "output_type": "stream",
          "name": "stdout",
          "text": [
            "Epoch 34/50 | Loss: 1.2566 | Val Acc: 0.4693 | Val Top-5 Acc: 0.7787\n"
          ]
        },
        {
          "output_type": "stream",
          "name": "stderr",
          "text": [
            "\r 70%|███████   | 35/50 [25:58<11:05, 44.38s/it]"
          ]
        },
        {
          "output_type": "stream",
          "name": "stdout",
          "text": [
            "Epoch 35/50 | Loss: 1.2251 | Val Acc: 0.4695 | Val Top-5 Acc: 0.7786\n"
          ]
        },
        {
          "output_type": "stream",
          "name": "stderr",
          "text": [
            "\r 72%|███████▏  | 36/50 [26:43<10:21, 44.43s/it]"
          ]
        },
        {
          "output_type": "stream",
          "name": "stdout",
          "text": [
            "Epoch 36/50 | Loss: 1.1988 | Val Acc: 0.4806 | Val Top-5 Acc: 0.7815\n"
          ]
        },
        {
          "output_type": "stream",
          "name": "stderr",
          "text": [
            "\r 74%|███████▍  | 37/50 [27:27<09:37, 44.46s/it]"
          ]
        },
        {
          "output_type": "stream",
          "name": "stdout",
          "text": [
            "Epoch 37/50 | Loss: 1.1804 | Val Acc: 0.4732 | Val Top-5 Acc: 0.7805\n"
          ]
        },
        {
          "output_type": "stream",
          "name": "stderr",
          "text": [
            "\r 76%|███████▌  | 38/50 [28:11<08:52, 44.35s/it]"
          ]
        },
        {
          "output_type": "stream",
          "name": "stdout",
          "text": [
            "Epoch 38/50 | Loss: 1.1613 | Val Acc: 0.4771 | Val Top-5 Acc: 0.7826\n"
          ]
        },
        {
          "output_type": "stream",
          "name": "stderr",
          "text": [
            "\r 78%|███████▊  | 39/50 [28:56<08:10, 44.55s/it]"
          ]
        },
        {
          "output_type": "stream",
          "name": "stdout",
          "text": [
            "Epoch 39/50 | Loss: 1.1320 | Val Acc: 0.4769 | Val Top-5 Acc: 0.7853\n"
          ]
        },
        {
          "output_type": "stream",
          "name": "stderr",
          "text": [
            "\r 80%|████████  | 40/50 [29:40<07:23, 44.40s/it]"
          ]
        },
        {
          "output_type": "stream",
          "name": "stdout",
          "text": [
            "Epoch 40/50 | Loss: 1.1133 | Val Acc: 0.4770 | Val Top-5 Acc: 0.7825\n"
          ]
        },
        {
          "output_type": "stream",
          "name": "stderr",
          "text": [
            "\r 82%|████████▏ | 41/50 [30:25<06:41, 44.56s/it]"
          ]
        },
        {
          "output_type": "stream",
          "name": "stdout",
          "text": [
            "Epoch 41/50 | Loss: 1.0939 | Val Acc: 0.4770 | Val Top-5 Acc: 0.7870\n"
          ]
        },
        {
          "output_type": "stream",
          "name": "stderr",
          "text": [
            "\r 84%|████████▍ | 42/50 [31:09<05:55, 44.49s/it]"
          ]
        },
        {
          "output_type": "stream",
          "name": "stdout",
          "text": [
            "Epoch 42/50 | Loss: 1.0851 | Val Acc: 0.4879 | Val Top-5 Acc: 0.7917\n"
          ]
        },
        {
          "output_type": "stream",
          "name": "stderr",
          "text": [
            "\r 86%|████████▌ | 43/50 [31:54<05:12, 44.63s/it]"
          ]
        },
        {
          "output_type": "stream",
          "name": "stdout",
          "text": [
            "Epoch 43/50 | Loss: 1.0786 | Val Acc: 0.4894 | Val Top-5 Acc: 0.7889\n"
          ]
        },
        {
          "output_type": "stream",
          "name": "stderr",
          "text": [
            "\r 88%|████████▊ | 44/50 [32:38<04:26, 44.41s/it]"
          ]
        },
        {
          "output_type": "stream",
          "name": "stdout",
          "text": [
            "Epoch 44/50 | Loss: 1.0592 | Val Acc: 0.4790 | Val Top-5 Acc: 0.7874\n"
          ]
        },
        {
          "output_type": "stream",
          "name": "stderr",
          "text": [
            "\r 90%|█████████ | 45/50 [33:23<03:42, 44.49s/it]"
          ]
        },
        {
          "output_type": "stream",
          "name": "stdout",
          "text": [
            "Epoch 45/50 | Loss: 1.0587 | Val Acc: 0.4751 | Val Top-5 Acc: 0.7900\n"
          ]
        },
        {
          "output_type": "stream",
          "name": "stderr",
          "text": [
            "\r 92%|█████████▏| 46/50 [34:07<02:57, 44.40s/it]"
          ]
        },
        {
          "output_type": "stream",
          "name": "stdout",
          "text": [
            "Epoch 46/50 | Loss: 1.0426 | Val Acc: 0.4830 | Val Top-5 Acc: 0.7888\n"
          ]
        },
        {
          "output_type": "stream",
          "name": "stderr",
          "text": [
            "\r 94%|█████████▍| 47/50 [34:52<02:13, 44.48s/it]"
          ]
        },
        {
          "output_type": "stream",
          "name": "stdout",
          "text": [
            "Epoch 47/50 | Loss: 1.0401 | Val Acc: 0.4750 | Val Top-5 Acc: 0.7889\n"
          ]
        },
        {
          "output_type": "stream",
          "name": "stderr",
          "text": [
            "\r 96%|█████████▌| 48/50 [35:36<01:28, 44.41s/it]"
          ]
        },
        {
          "output_type": "stream",
          "name": "stdout",
          "text": [
            "Epoch 48/50 | Loss: 1.0397 | Val Acc: 0.4843 | Val Top-5 Acc: 0.7869\n"
          ]
        },
        {
          "output_type": "stream",
          "name": "stderr",
          "text": [
            "\r 98%|█████████▊| 49/50 [36:21<00:44, 44.56s/it]"
          ]
        },
        {
          "output_type": "stream",
          "name": "stdout",
          "text": [
            "Epoch 49/50 | Loss: 1.0397 | Val Acc: 0.4869 | Val Top-5 Acc: 0.7828\n"
          ]
        },
        {
          "output_type": "stream",
          "name": "stderr",
          "text": [
            "100%|██████████| 50/50 [37:05<00:00, 44.51s/it]"
          ]
        },
        {
          "output_type": "stream",
          "name": "stdout",
          "text": [
            "Epoch 50/50 | Loss: 1.0394 | Val Acc: 0.4779 | Val Top-5 Acc: 0.7868\n"
          ]
        },
        {
          "output_type": "stream",
          "name": "stderr",
          "text": [
            "\n"
          ]
        },
        {
          "output_type": "stream",
          "name": "stdout",
          "text": [
            "Test accuracy: 49.99%\n",
            "Test top 5 accuracy: 79.67%\n"
          ]
        },
        {
          "output_type": "execute_result",
          "data": {
            "text/plain": [
              "ViTClassifier(\n",
              "  (data_augmentation): Identity()\n",
              "  (spt): SPT(\n",
              "    (layer_norm): LayerNorm((540,), eps=1e-06, elementwise_affine=True)\n",
              "    (projection): Linear(in_features=540, out_features=64, bias=True)\n",
              "  )\n",
              "  (patch_encoder): PatchEncoder(\n",
              "    (position_embedding): Embedding(144, 64)\n",
              "  )\n",
              "  (transformer_blocks): ModuleList(\n",
              "    (0-7): 8 x ModuleDict(\n",
              "      (norm1): LayerNorm((64,), eps=1e-06, elementwise_affine=True)\n",
              "      (mha): MultiHeadAttentionLSA(\n",
              "        (q_proj): Linear(in_features=64, out_features=64, bias=True)\n",
              "        (k_proj): Linear(in_features=64, out_features=64, bias=True)\n",
              "        (v_proj): Linear(in_features=64, out_features=64, bias=True)\n",
              "        (out_proj): Linear(in_features=64, out_features=64, bias=True)\n",
              "        (dropout): Dropout(p=0.1, inplace=False)\n",
              "      )\n",
              "      (norm2): LayerNorm((64,), eps=1e-06, elementwise_affine=True)\n",
              "      (mlp): MLP(\n",
              "        (mlp): Sequential(\n",
              "          (0): Linear(in_features=64, out_features=128, bias=True)\n",
              "          (1): GELU(approximate='none')\n",
              "          (2): Dropout(p=0.1, inplace=False)\n",
              "          (3): Linear(in_features=128, out_features=64, bias=True)\n",
              "          (4): GELU(approximate='none')\n",
              "          (5): Dropout(p=0.1, inplace=False)\n",
              "        )\n",
              "      )\n",
              "    )\n",
              "  )\n",
              "  (final_norm): LayerNorm((64,), eps=1e-06, elementwise_affine=True)\n",
              "  (flatten): Flatten(start_dim=1, end_dim=-1)\n",
              "  (final_dropout): Dropout(p=0.5, inplace=False)\n",
              "  (mlp_head): MLP(\n",
              "    (mlp): Sequential(\n",
              "      (0): Linear(in_features=9216, out_features=2048, bias=True)\n",
              "      (1): GELU(approximate='none')\n",
              "      (2): Dropout(p=0.5, inplace=False)\n",
              "      (3): Linear(in_features=2048, out_features=1024, bias=True)\n",
              "      (4): GELU(approximate='none')\n",
              "      (5): Dropout(p=0.5, inplace=False)\n",
              "    )\n",
              "  )\n",
              "  (classifier): Linear(in_features=1024, out_features=100, bias=True)\n",
              ")"
            ]
          },
          "metadata": {},
          "execution_count": 23
        }
      ]
    }
  ],
  "metadata": {
    "accelerator": "GPU",
    "colab": {
      "provenance": [],
      "gpuType": "T4"
    },
    "kernelspec": {
      "display_name": "Python 3",
      "name": "python3"
    },
    "language_info": {
      "codemirror_mode": {
        "name": "ipython",
        "version": 3
      },
      "file_extension": ".py",
      "mimetype": "text/x-python",
      "name": "python",
      "nbconvert_exporter": "python",
      "pygments_lexer": "ipython3",
      "version": "3.7.0"
    }
  },
  "nbformat": 4,
  "nbformat_minor": 0
}
